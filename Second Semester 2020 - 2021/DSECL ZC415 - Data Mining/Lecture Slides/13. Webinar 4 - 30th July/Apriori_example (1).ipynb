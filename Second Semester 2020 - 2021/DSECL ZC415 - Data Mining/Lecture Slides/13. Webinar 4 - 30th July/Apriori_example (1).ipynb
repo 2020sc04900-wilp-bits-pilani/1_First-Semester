{
  "nbformat": 4,
  "nbformat_minor": 0,
  "metadata": {
    "colab": {
      "name": "Apriori_example.ipynb",
      "provenance": [],
      "collapsed_sections": [],
      "toc_visible": true
    },
    "kernelspec": {
      "name": "python3",
      "display_name": "Python 3"
    }
  },
  "cells": [
    {
      "cell_type": "code",
      "metadata": {
        "id": "41tJirCozrrq",
        "colab_type": "code",
        "colab": {
          "base_uri": "https://localhost:8080/",
          "height": 193
        },
        "outputId": "7d0db77b-7088-4ddc-f5c1-20e3726ab24f"
      },
      "source": [
        "pip install apyori"
      ],
      "execution_count": 2,
      "outputs": [
        {
          "output_type": "stream",
          "text": [
            "Collecting apyori\n",
            "  Downloading https://files.pythonhosted.org/packages/5e/62/5ffde5c473ea4b033490617ec5caa80d59804875ad3c3c57c0976533a21a/apyori-1.1.2.tar.gz\n",
            "Building wheels for collected packages: apyori\n",
            "  Building wheel for apyori (setup.py) ... \u001b[?25l\u001b[?25hdone\n",
            "  Created wheel for apyori: filename=apyori-1.1.2-cp36-none-any.whl size=5975 sha256=a45a1258ce06aa8c9a0a2235059c43adf4092ff17b1804f988bbe098da4c1bbe\n",
            "  Stored in directory: /root/.cache/pip/wheels/5d/92/bb/474bbadbc8c0062b9eb168f69982a0443263f8ab1711a8cad0\n",
            "Successfully built apyori\n",
            "Installing collected packages: apyori\n",
            "Successfully installed apyori-1.1.2\n"
          ],
          "name": "stdout"
        }
      ]
    },
    {
      "cell_type": "code",
      "metadata": {
        "id": "fiu9AL68z2Ti",
        "colab_type": "code",
        "colab": {}
      },
      "source": [
        ""
      ],
      "execution_count": null,
      "outputs": []
    },
    {
      "cell_type": "code",
      "metadata": {
        "id": "qnSZNxxPzZDV",
        "colab_type": "code",
        "colab": {}
      },
      "source": [
        "import numpy as np \n",
        "import matplotlib.pyplot as plt \n",
        "import pandas as pd \n",
        "from apyori import apriori"
      ],
      "execution_count": 5,
      "outputs": []
    },
    {
      "cell_type": "code",
      "metadata": {
        "id": "4jqJHHLBz4zz",
        "colab_type": "code",
        "colab": {}
      },
      "source": [
        ""
      ],
      "execution_count": null,
      "outputs": []
    },
    {
      "cell_type": "code",
      "metadata": {
        "id": "vhQBtkmQ0FMd",
        "colab_type": "code",
        "colab": {
          "base_uri": "https://localhost:8080/",
          "height": 55
        },
        "outputId": "3c65c0cf-7a27-43ec-b7b1-cde6ec304b6d"
      },
      "source": [
        "from google.colab import drive\n",
        "drive.mount('/content/drive')"
      ],
      "execution_count": 6,
      "outputs": [
        {
          "output_type": "stream",
          "text": [
            "Drive already mounted at /content/drive; to attempt to forcibly remount, call drive.mount(\"/content/drive\", force_remount=True).\n"
          ],
          "name": "stdout"
        }
      ]
    },
    {
      "cell_type": "code",
      "metadata": {
        "id": "qNhLxOKh0W9K",
        "colab_type": "code",
        "colab": {}
      },
      "source": [
        "#reading data set\n",
        "store_data = pd.read_csv('/content/drive/My Drive/BITS-WILP/store_data.csv',header=None)\n"
      ],
      "execution_count": 7,
      "outputs": []
    },
    {
      "cell_type": "markdown",
      "metadata": {
        "id": "zsDw7LC4z5Vm",
        "colab_type": "text"
      },
      "source": [
        "# New Section"
      ]
    },
    {
      "cell_type": "code",
      "metadata": {
        "id": "9p9qDj0m2K84",
        "colab_type": "code",
        "colab": {
          "base_uri": "https://localhost:8080/",
          "height": 274
        },
        "outputId": "fc6dd699-e473-4089-ce28-7bd9efc2a25b"
      },
      "source": [
        "#explore data set\n",
        "store_data.head()\n"
      ],
      "execution_count": 8,
      "outputs": [
        {
          "output_type": "execute_result",
          "data": {
            "text/html": [
              "<div>\n",
              "<style scoped>\n",
              "    .dataframe tbody tr th:only-of-type {\n",
              "        vertical-align: middle;\n",
              "    }\n",
              "\n",
              "    .dataframe tbody tr th {\n",
              "        vertical-align: top;\n",
              "    }\n",
              "\n",
              "    .dataframe thead th {\n",
              "        text-align: right;\n",
              "    }\n",
              "</style>\n",
              "<table border=\"1\" class=\"dataframe\">\n",
              "  <thead>\n",
              "    <tr style=\"text-align: right;\">\n",
              "      <th></th>\n",
              "      <th>0</th>\n",
              "      <th>1</th>\n",
              "      <th>2</th>\n",
              "      <th>3</th>\n",
              "      <th>4</th>\n",
              "      <th>5</th>\n",
              "      <th>6</th>\n",
              "      <th>7</th>\n",
              "      <th>8</th>\n",
              "      <th>9</th>\n",
              "      <th>10</th>\n",
              "      <th>11</th>\n",
              "      <th>12</th>\n",
              "      <th>13</th>\n",
              "      <th>14</th>\n",
              "      <th>15</th>\n",
              "      <th>16</th>\n",
              "      <th>17</th>\n",
              "      <th>18</th>\n",
              "      <th>19</th>\n",
              "    </tr>\n",
              "  </thead>\n",
              "  <tbody>\n",
              "    <tr>\n",
              "      <th>0</th>\n",
              "      <td>shrimp</td>\n",
              "      <td>almonds</td>\n",
              "      <td>avocado</td>\n",
              "      <td>vegetables mix</td>\n",
              "      <td>green grapes</td>\n",
              "      <td>whole weat flour</td>\n",
              "      <td>yams</td>\n",
              "      <td>cottage cheese</td>\n",
              "      <td>energy drink</td>\n",
              "      <td>tomato juice</td>\n",
              "      <td>low fat yogurt</td>\n",
              "      <td>green tea</td>\n",
              "      <td>honey</td>\n",
              "      <td>salad</td>\n",
              "      <td>mineral water</td>\n",
              "      <td>salmon</td>\n",
              "      <td>antioxydant juice</td>\n",
              "      <td>frozen smoothie</td>\n",
              "      <td>spinach</td>\n",
              "      <td>olive oil</td>\n",
              "    </tr>\n",
              "    <tr>\n",
              "      <th>1</th>\n",
              "      <td>burgers</td>\n",
              "      <td>meatballs</td>\n",
              "      <td>eggs</td>\n",
              "      <td>NaN</td>\n",
              "      <td>NaN</td>\n",
              "      <td>NaN</td>\n",
              "      <td>NaN</td>\n",
              "      <td>NaN</td>\n",
              "      <td>NaN</td>\n",
              "      <td>NaN</td>\n",
              "      <td>NaN</td>\n",
              "      <td>NaN</td>\n",
              "      <td>NaN</td>\n",
              "      <td>NaN</td>\n",
              "      <td>NaN</td>\n",
              "      <td>NaN</td>\n",
              "      <td>NaN</td>\n",
              "      <td>NaN</td>\n",
              "      <td>NaN</td>\n",
              "      <td>NaN</td>\n",
              "    </tr>\n",
              "    <tr>\n",
              "      <th>2</th>\n",
              "      <td>chutney</td>\n",
              "      <td>NaN</td>\n",
              "      <td>NaN</td>\n",
              "      <td>NaN</td>\n",
              "      <td>NaN</td>\n",
              "      <td>NaN</td>\n",
              "      <td>NaN</td>\n",
              "      <td>NaN</td>\n",
              "      <td>NaN</td>\n",
              "      <td>NaN</td>\n",
              "      <td>NaN</td>\n",
              "      <td>NaN</td>\n",
              "      <td>NaN</td>\n",
              "      <td>NaN</td>\n",
              "      <td>NaN</td>\n",
              "      <td>NaN</td>\n",
              "      <td>NaN</td>\n",
              "      <td>NaN</td>\n",
              "      <td>NaN</td>\n",
              "      <td>NaN</td>\n",
              "    </tr>\n",
              "    <tr>\n",
              "      <th>3</th>\n",
              "      <td>turkey</td>\n",
              "      <td>avocado</td>\n",
              "      <td>NaN</td>\n",
              "      <td>NaN</td>\n",
              "      <td>NaN</td>\n",
              "      <td>NaN</td>\n",
              "      <td>NaN</td>\n",
              "      <td>NaN</td>\n",
              "      <td>NaN</td>\n",
              "      <td>NaN</td>\n",
              "      <td>NaN</td>\n",
              "      <td>NaN</td>\n",
              "      <td>NaN</td>\n",
              "      <td>NaN</td>\n",
              "      <td>NaN</td>\n",
              "      <td>NaN</td>\n",
              "      <td>NaN</td>\n",
              "      <td>NaN</td>\n",
              "      <td>NaN</td>\n",
              "      <td>NaN</td>\n",
              "    </tr>\n",
              "    <tr>\n",
              "      <th>4</th>\n",
              "      <td>mineral water</td>\n",
              "      <td>milk</td>\n",
              "      <td>energy bar</td>\n",
              "      <td>whole wheat rice</td>\n",
              "      <td>green tea</td>\n",
              "      <td>NaN</td>\n",
              "      <td>NaN</td>\n",
              "      <td>NaN</td>\n",
              "      <td>NaN</td>\n",
              "      <td>NaN</td>\n",
              "      <td>NaN</td>\n",
              "      <td>NaN</td>\n",
              "      <td>NaN</td>\n",
              "      <td>NaN</td>\n",
              "      <td>NaN</td>\n",
              "      <td>NaN</td>\n",
              "      <td>NaN</td>\n",
              "      <td>NaN</td>\n",
              "      <td>NaN</td>\n",
              "      <td>NaN</td>\n",
              "    </tr>\n",
              "  </tbody>\n",
              "</table>\n",
              "</div>"
            ],
            "text/plain": [
              "              0          1           2   ...               17       18         19\n",
              "0         shrimp    almonds     avocado  ...  frozen smoothie  spinach  olive oil\n",
              "1        burgers  meatballs        eggs  ...              NaN      NaN        NaN\n",
              "2        chutney        NaN         NaN  ...              NaN      NaN        NaN\n",
              "3         turkey    avocado         NaN  ...              NaN      NaN        NaN\n",
              "4  mineral water       milk  energy bar  ...              NaN      NaN        NaN\n",
              "\n",
              "[5 rows x 20 columns]"
            ]
          },
          "metadata": {
            "tags": []
          },
          "execution_count": 8
        }
      ]
    },
    {
      "cell_type": "code",
      "metadata": {
        "id": "ezhQPJT923Fy",
        "colab_type": "code",
        "colab": {}
      },
      "source": [
        "#data pre-processing\n",
        "records = []\n",
        "for i in range(0, 7501):\n",
        "    records.append([str(store_data.values[i,j]) for j in range(0, 20)])\n"
      ],
      "execution_count": 9,
      "outputs": []
    },
    {
      "cell_type": "code",
      "metadata": {
        "id": "2UIhvemc3n1O",
        "colab_type": "code",
        "colab": {}
      },
      "source": [
        "#applying apriori\n",
        "association_rules = apriori(records, min_support=0.0045, min_confidence=0.2, min_lift=3, min_length=2)\n",
        "association_results = list(association_rules)\n"
      ],
      "execution_count": 10,
      "outputs": []
    },
    {
      "cell_type": "code",
      "metadata": {
        "id": "GtIYRi4y3u2x",
        "colab_type": "code",
        "colab": {
          "base_uri": "https://localhost:8080/",
          "height": 35
        },
        "outputId": "c1776a80-9e28-4439-e8f9-749f325c0a12"
      },
      "source": [
        "#print length of asocial rules\n",
        "print(len(association_results))"
      ],
      "execution_count": 11,
      "outputs": [
        {
          "output_type": "stream",
          "text": [
            "48\n"
          ],
          "name": "stdout"
        }
      ]
    },
    {
      "cell_type": "code",
      "metadata": {
        "id": "_Vt5pGyR3xaC",
        "colab_type": "code",
        "colab": {
          "base_uri": "https://localhost:8080/",
          "height": 55
        },
        "outputId": "436ae71c-a26a-48ec-eb02-9365130e815d"
      },
      "source": [
        "#print first association rule\n",
        "print(association_results[0])"
      ],
      "execution_count": 12,
      "outputs": [
        {
          "output_type": "stream",
          "text": [
            "RelationRecord(items=frozenset({'light cream', 'chicken'}), support=0.004532728969470737, ordered_statistics=[OrderedStatistic(items_base=frozenset({'light cream'}), items_add=frozenset({'chicken'}), confidence=0.29059829059829057, lift=4.84395061728395)])\n"
          ],
          "name": "stdout"
        }
      ]
    },
    {
      "cell_type": "code",
      "metadata": {
        "id": "Vhx7X5BA31uh",
        "colab_type": "code",
        "colab": {
          "base_uri": "https://localhost:8080/",
          "height": 1000
        },
        "outputId": "3820772f-3c31-4652-f6cd-0cda459f4d3e"
      },
      "source": [
        "for item in association_results:\n",
        "# first index of the inner list \n",
        "# Contains base item and add item\n",
        "    pair = item[0] \n",
        "    items = [x for x in pair] \n",
        "    print(\"Rule: \" + items[0] + \" -> \" + items[1])\n",
        "    #second index of the inner list \n",
        "    print(\"Support: \" + str(item[1]))\n",
        "    #third index of the list located at 0th \n",
        "    #of the third index of the inner list \n",
        "    print(\"Confidence: \" + str(item[2][0][2])) \n",
        "    print(\"Lift: \" + str(item[2][0][3])) \n",
        "    print(\"=====================================\")\n"
      ],
      "execution_count": 13,
      "outputs": [
        {
          "output_type": "stream",
          "text": [
            "Rule: light cream -> chicken\n",
            "Support: 0.004532728969470737\n",
            "Confidence: 0.29059829059829057\n",
            "Lift: 4.84395061728395\n",
            "=====================================\n",
            "Rule: mushroom cream sauce -> escalope\n",
            "Support: 0.005732568990801226\n",
            "Confidence: 0.3006993006993007\n",
            "Lift: 3.790832696715049\n",
            "=====================================\n",
            "Rule: escalope -> pasta\n",
            "Support: 0.005865884548726837\n",
            "Confidence: 0.3728813559322034\n",
            "Lift: 4.700811850163794\n",
            "=====================================\n",
            "Rule: ground beef -> herb & pepper\n",
            "Support: 0.015997866951073192\n",
            "Confidence: 0.3234501347708895\n",
            "Lift: 3.2919938411349285\n",
            "=====================================\n",
            "Rule: tomato sauce -> ground beef\n",
            "Support: 0.005332622317024397\n",
            "Confidence: 0.3773584905660377\n",
            "Lift: 3.840659481324083\n",
            "=====================================\n",
            "Rule: whole wheat pasta -> olive oil\n",
            "Support: 0.007998933475536596\n",
            "Confidence: 0.2714932126696833\n",
            "Lift: 4.122410097642296\n",
            "=====================================\n",
            "Rule: pasta -> shrimp\n",
            "Support: 0.005065991201173177\n",
            "Confidence: 0.3220338983050847\n",
            "Lift: 4.506672147735896\n",
            "=====================================\n",
            "Rule: nan -> light cream\n",
            "Support: 0.004532728969470737\n",
            "Confidence: 0.29059829059829057\n",
            "Lift: 4.84395061728395\n",
            "=====================================\n",
            "Rule: shrimp -> frozen vegetables\n",
            "Support: 0.005332622317024397\n",
            "Confidence: 0.23255813953488375\n",
            "Lift: 3.2545123221103784\n",
            "=====================================\n",
            "Rule: ground beef -> spaghetti\n",
            "Support: 0.004799360085321957\n",
            "Confidence: 0.5714285714285714\n",
            "Lift: 3.2819951870487856\n",
            "=====================================\n",
            "Rule: mushroom cream sauce -> escalope\n",
            "Support: 0.005732568990801226\n",
            "Confidence: 0.3006993006993007\n",
            "Lift: 3.790832696715049\n",
            "=====================================\n",
            "Rule: pasta -> escalope\n",
            "Support: 0.005865884548726837\n",
            "Confidence: 0.3728813559322034\n",
            "Lift: 4.700811850163794\n",
            "=====================================\n",
            "Rule: frozen vegetables -> ground beef\n",
            "Support: 0.008665511265164644\n",
            "Confidence: 0.31100478468899523\n",
            "Lift: 3.165328208890303\n",
            "=====================================\n",
            "Rule: milk -> frozen vegetables\n",
            "Support: 0.004799360085321957\n",
            "Confidence: 0.20338983050847456\n",
            "Lift: 3.088314005352364\n",
            "=====================================\n",
            "Rule: mineral water -> frozen vegetables\n",
            "Support: 0.007199040127982935\n",
            "Confidence: 0.30508474576271183\n",
            "Lift: 3.200616332819722\n",
            "=====================================\n",
            "Rule: frozen vegetables -> spaghetti\n",
            "Support: 0.005732568990801226\n",
            "Confidence: 0.20574162679425836\n",
            "Lift: 3.1240241752707125\n",
            "=====================================\n",
            "Rule: frozen vegetables -> spaghetti\n",
            "Support: 0.005999200106652446\n",
            "Confidence: 0.21531100478468898\n",
            "Lift: 3.0131489680782684\n",
            "=====================================\n",
            "Rule: frozen vegetables -> tomatoes\n",
            "Support: 0.006665777896280496\n",
            "Confidence: 0.23923444976076558\n",
            "Lift: 3.4980460188216425\n",
            "=====================================\n",
            "Rule: grated cheese -> ground beef\n",
            "Support: 0.005332622317024397\n",
            "Confidence: 0.3225806451612903\n",
            "Lift: 3.283144395325426\n",
            "=====================================\n",
            "Rule: mineral water -> ground beef\n",
            "Support: 0.006665777896280496\n",
            "Confidence: 0.39062500000000006\n",
            "Lift: 3.975682666214383\n",
            "=====================================\n",
            "Rule: nan -> ground beef\n",
            "Support: 0.015997866951073192\n",
            "Confidence: 0.3234501347708895\n",
            "Lift: 3.2919938411349285\n",
            "=====================================\n",
            "Rule: spaghetti -> ground beef\n",
            "Support: 0.006399146780429276\n",
            "Confidence: 0.3934426229508197\n",
            "Lift: 4.004359721511667\n",
            "=====================================\n",
            "Rule: milk -> ground beef\n",
            "Support: 0.004932675643247567\n",
            "Confidence: 0.22424242424242427\n",
            "Lift: 3.40494417862839\n",
            "=====================================\n",
            "Rule: tomato sauce -> nan\n",
            "Support: 0.005332622317024397\n",
            "Confidence: 0.3773584905660377\n",
            "Lift: 3.840659481324083\n",
            "=====================================\n",
            "Rule: spaghetti -> ground beef\n",
            "Support: 0.005999200106652446\n",
            "Confidence: 0.5232558139534884\n",
            "Lift: 3.005315360233627\n",
            "=====================================\n",
            "Rule: milk -> spaghetti\n",
            "Support: 0.007199040127982935\n",
            "Confidence: 0.20300751879699247\n",
            "Lift: 3.0825089038385434\n",
            "=====================================\n",
            "Rule: mineral water -> soup\n",
            "Support: 0.005199306759098787\n",
            "Confidence: 0.22543352601156072\n",
            "Lift: 3.4230301186492245\n",
            "=====================================\n",
            "Rule: nan -> whole wheat pasta\n",
            "Support: 0.007998933475536596\n",
            "Confidence: 0.2714932126696833\n",
            "Lift: 4.13077198425009\n",
            "=====================================\n",
            "Rule: nan -> pasta\n",
            "Support: 0.005065991201173177\n",
            "Confidence: 0.3220338983050847\n",
            "Lift: 4.515095833993347\n",
            "=====================================\n",
            "Rule: pancakes -> spaghetti\n",
            "Support: 0.005065991201173177\n",
            "Confidence: 0.20105820105820105\n",
            "Lift: 3.0529100529100526\n",
            "=====================================\n",
            "Rule: shrimp -> frozen vegetables\n",
            "Support: 0.005332622317024397\n",
            "Confidence: 0.23255813953488375\n",
            "Lift: 3.260595522712454\n",
            "=====================================\n",
            "Rule: nan -> ground beef\n",
            "Support: 0.004799360085321957\n",
            "Confidence: 0.5714285714285714\n",
            "Lift: 3.2819951870487856\n",
            "=====================================\n",
            "Rule: spaghetti -> frozen vegetables\n",
            "Support: 0.008665511265164644\n",
            "Confidence: 0.31100478468899523\n",
            "Lift: 3.165328208890303\n",
            "=====================================\n",
            "Rule: milk -> frozen vegetables\n",
            "Support: 0.004532728969470737\n",
            "Confidence: 0.28813559322033894\n",
            "Lift: 3.0228043143297376\n",
            "=====================================\n",
            "Rule: milk -> frozen vegetables\n",
            "Support: 0.004799360085321957\n",
            "Confidence: 0.20338983050847456\n",
            "Lift: 3.094578333963626\n",
            "=====================================\n",
            "Rule: mineral water -> frozen vegetables\n",
            "Support: 0.007199040127982935\n",
            "Confidence: 0.30508474576271183\n",
            "Lift: 3.200616332819722\n",
            "=====================================\n",
            "Rule: frozen vegetables -> nan\n",
            "Support: 0.005732568990801226\n",
            "Confidence: 0.20574162679425836\n",
            "Lift: 3.1303609383037156\n",
            "=====================================\n",
            "Rule: spaghetti -> frozen vegetables\n",
            "Support: 0.005999200106652446\n",
            "Confidence: 0.21531100478468898\n",
            "Lift: 3.0187810222242093\n",
            "=====================================\n",
            "Rule: frozen vegetables -> tomatoes\n",
            "Support: 0.006665777896280496\n",
            "Confidence: 0.23923444976076558\n",
            "Lift: 3.4980460188216425\n",
            "=====================================\n",
            "Rule: grated cheese -> nan\n",
            "Support: 0.005332622317024397\n",
            "Confidence: 0.3225806451612903\n",
            "Lift: 3.283144395325426\n",
            "=====================================\n",
            "Rule: mineral water -> nan\n",
            "Support: 0.006665777896280496\n",
            "Confidence: 0.39062500000000006\n",
            "Lift: 3.975682666214383\n",
            "=====================================\n",
            "Rule: spaghetti -> nan\n",
            "Support: 0.006399146780429276\n",
            "Confidence: 0.3934426229508197\n",
            "Lift: 4.004359721511667\n",
            "=====================================\n",
            "Rule: milk -> nan\n",
            "Support: 0.004932675643247567\n",
            "Confidence: 0.22424242424242427\n",
            "Lift: 3.4118507591124225\n",
            "=====================================\n",
            "Rule: spaghetti -> nan\n",
            "Support: 0.005999200106652446\n",
            "Confidence: 0.5232558139534884\n",
            "Lift: 3.005315360233627\n",
            "=====================================\n",
            "Rule: milk -> nan\n",
            "Support: 0.007199040127982935\n",
            "Confidence: 0.20300751879699247\n",
            "Lift: 3.088761457396025\n",
            "=====================================\n",
            "Rule: mineral water -> nan\n",
            "Support: 0.005199306759098787\n",
            "Confidence: 0.22543352601156072\n",
            "Lift: 3.429973384609973\n",
            "=====================================\n",
            "Rule: pancakes -> nan\n",
            "Support: 0.005065991201173177\n",
            "Confidence: 0.20105820105820105\n",
            "Lift: 3.0591025682303568\n",
            "=====================================\n",
            "Rule: nan -> milk\n",
            "Support: 0.004532728969470737\n",
            "Confidence: 0.28813559322033894\n",
            "Lift: 3.0228043143297376\n",
            "=====================================\n"
          ],
          "name": "stdout"
        }
      ]
    }
  ]
}